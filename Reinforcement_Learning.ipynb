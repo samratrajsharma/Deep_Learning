{
 "cells": [
  {
   "cell_type": "code",
   "execution_count": 3,
   "id": "e325abcc",
   "metadata": {},
   "outputs": [],
   "source": [
    "from collections import deque\n",
    "import numpy as np\n",
    "import argparse\n",
    "import os\n",
    "import time\n",
    "from termcolor import colored"
   ]
  },
  {
   "cell_type": "code",
   "execution_count": 1,
   "id": "30d52bea",
   "metadata": {},
   "outputs": [
    {
     "name": "stdout",
     "output_type": "stream",
     "text": [
      "Training finished. Scores (steps to win): []\n",
      "Learned Q-table:\n",
      " [[0. 0. 0. 0.]\n",
      " [0. 0. 0. 0.]\n",
      " [0. 0. 0. 0.]\n",
      " [0. 0. 0. 0.]\n",
      " [0. 0. 0. 0.]\n",
      " [0. 0. 0. 0.]]\n"
     ]
    }
   ],
   "source": [
    "import numpy as np\n",
    "\n",
    "class Qworld:\n",
    "    def __init__(self):\n",
    "        self.col = 4\n",
    "        self.row = 6\n",
    "        self.q_table = np.zeros([self.row, self.col])\n",
    "        self.init_transition_table()\n",
    "        self.init_reward_table()\n",
    "        self.gamma = 0.9\n",
    "        self.epsilon = 0.9\n",
    "        self.epsilon_decay = 0.9\n",
    "        self.epsilon_min = 0.1\n",
    "        self.reset()\n",
    "\n",
    "    def reset(self):\n",
    "        self.state = 0\n",
    "        return self.state\n",
    "\n",
    "    def is_in_win_state(self):\n",
    "        return self.state == 2\n",
    "\n",
    "    def init_reward_table(self):\n",
    "        self.reward_table = np.zeros([self.row, self.col])\n",
    "        self.reward_table[1, 2] = 100\n",
    "        self.reward_table[4, 2] = -100\n",
    "\n",
    "    def init_transition_table(self):\n",
    "        self.transition_table = np.zeros([self.row, self.col], dtype=int)\n",
    "        self.transition_table[0] = [0, 3, 1, 0]\n",
    "        self.transition_table[1] = [0, 4, 2, 1]\n",
    "        self.transition_table[2] = [2, 2, 2, 2]\n",
    "        self.transition_table[3] = [3, 3, 4, 0]\n",
    "        self.transition_table[4] = [3, 4, 5, 1]\n",
    "        self.transition_table[5] = [5, 5, 5, 5]\n",
    "\n",
    "    def step(self, action):\n",
    "        next_state = self.transition_table[self.state, action]\n",
    "        done = next_state == 2 or next_state == 5\n",
    "        reward = self.reward_table[self.state, action]\n",
    "        return next_state, reward, done\n",
    "\n",
    "    def act(self):\n",
    "        if np.random.rand() < self.epsilon:\n",
    "            return np.random.randint(4)\n",
    "        return np.argmax(self.q_table[self.state])\n",
    "\n",
    "    def update_q_table(self, state, action, reward, next_state):\n",
    "        best_next = np.max(self.q_table[next_state])\n",
    "        self.q_table[state, action] = reward + self.gamma * best_next\n",
    "\n",
    "    def update_epsilon(self):\n",
    "        if self.epsilon > self.epsilon_min:\n",
    "            self.epsilon *= self.epsilon_decay\n",
    "\n",
    "\n",
    "q_world = Qworld()\n",
    "episode_count = 100\n",
    "maxwins = 10\n",
    "wins = 0\n",
    "scores = []\n",
    "\n",
    "for episode in range(episode_count):\n",
    "    state = q_world.reset()\n",
    "    done = False\n",
    "    step = 0\n",
    "\n",
    "    while not done and step < 50:\n",
    "        action = q_world.act()\n",
    "        next_state, reward, done = q_world.step(action)\n",
    "        q_world.update_q_table(state, action, reward, next_state)\n",
    "        state = next_state\n",
    "        step += 1\n",
    "\n",
    "    if q_world.is_in_win_state():\n",
    "        wins += 1\n",
    "        scores.append(step)\n",
    "        if wins >= maxwins:\n",
    "            break\n",
    "\n",
    "    q_world.update_epsilon()\n",
    "\n",
    "print(\"Training finished. Scores (steps to win):\", scores)\n",
    "print(\"Learned Q-table:\\n\", q_world.q_table)\n"
   ]
  },
  {
   "cell_type": "code",
   "execution_count": 2,
   "id": "4bfcc176",
   "metadata": {},
   "outputs": [
    {
     "name": "stdout",
     "output_type": "stream",
     "text": [
      "Collecting gym\n",
      "  Downloading gym-0.26.2.tar.gz (721 kB)\n",
      "     ---------------------------------------- 0.0/721.7 kB ? eta -:--:--\n",
      "     ------------------------------------- 721.7/721.7 kB 14.8 MB/s eta 0:00:00\n",
      "  Installing build dependencies: started\n",
      "  Installing build dependencies: finished with status 'done'\n",
      "  Getting requirements to build wheel: started\n",
      "  Getting requirements to build wheel: finished with status 'done'\n",
      "  Preparing metadata (pyproject.toml): started\n",
      "  Preparing metadata (pyproject.toml): finished with status 'done'\n",
      "Requirement already satisfied: numpy>=1.18.0 in c:\\users\\prave\\appdata\\local\\packages\\pythonsoftwarefoundation.python.3.10_qbz5n2kfra8p0\\localcache\\local-packages\\python310\\site-packages (from gym) (1.26.4)\n",
      "Collecting cloudpickle>=1.2.0 (from gym)\n",
      "  Downloading cloudpickle-3.1.1-py3-none-any.whl.metadata (7.1 kB)\n",
      "Collecting gym_notices>=0.0.4 (from gym)\n",
      "  Downloading gym_notices-0.0.8-py3-none-any.whl.metadata (1.0 kB)\n",
      "Downloading cloudpickle-3.1.1-py3-none-any.whl (20 kB)\n",
      "Downloading gym_notices-0.0.8-py3-none-any.whl (3.0 kB)\n",
      "Building wheels for collected packages: gym\n",
      "  Building wheel for gym (pyproject.toml): started\n",
      "  Building wheel for gym (pyproject.toml): finished with status 'done'\n",
      "  Created wheel for gym: filename=gym-0.26.2-py3-none-any.whl size=827738 sha256=102eb11dbf14e7fbe6508b0f6306b831a324b41834052ca8ed73e7a1cd41debc\n",
      "  Stored in directory: c:\\users\\prave\\appdata\\local\\pip\\cache\\wheels\\b9\\22\\6d\\3e7b32d98451b4cd9d12417052affbeeeea012955d437da1da\n",
      "Successfully built gym\n",
      "Installing collected packages: gym_notices, cloudpickle, gym\n",
      "Successfully installed cloudpickle-3.1.1 gym-0.26.2 gym_notices-0.0.8\n"
     ]
    },
    {
     "name": "stderr",
     "output_type": "stream",
     "text": [
      "\n",
      "[notice] A new release of pip is available: 25.0.1 -> 25.1.1\n",
      "[notice] To update, run: C:\\Users\\prave\\AppData\\Local\\Microsoft\\WindowsApps\\PythonSoftwareFoundation.Python.3.10_qbz5n2kfra8p0\\python.exe -m pip install --upgrade pip\n"
     ]
    }
   ],
   "source": [
    "!pip install gym"
   ]
  },
  {
   "cell_type": "code",
   "execution_count": null,
   "id": "629a7d77",
   "metadata": {},
   "outputs": [],
   "source": []
  }
 ],
 "metadata": {
  "kernelspec": {
   "display_name": "Python 3",
   "language": "python",
   "name": "python3"
  },
  "language_info": {
   "codemirror_mode": {
    "name": "ipython",
    "version": 3
   },
   "file_extension": ".py",
   "mimetype": "text/x-python",
   "name": "python",
   "nbconvert_exporter": "python",
   "pygments_lexer": "ipython3",
   "version": "3.10.11"
  }
 },
 "nbformat": 4,
 "nbformat_minor": 5
}
