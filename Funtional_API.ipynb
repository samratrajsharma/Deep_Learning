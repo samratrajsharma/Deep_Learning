{
 "cells": [
  {
   "cell_type": "code",
   "execution_count": 13,
   "id": "88e353f9",
   "metadata": {},
   "outputs": [],
   "source": [
    "import numpy as np\n",
    "from tensorflow.keras.layers import Dense, Dropout\n",
    "from tensorflow.keras.layers import Conv2D, MaxPooling2D, Input, Flatten\n",
    "from tensorflow.keras.models import Model\n",
    "from tensorflow.keras.datasets import mnist\n",
    "from tensorflow.keras.utils import to_categorical"
   ]
  },
  {
   "cell_type": "code",
   "execution_count": 4,
   "id": "6e815fae",
   "metadata": {},
   "outputs": [],
   "source": [
    "(x_train, y_train), (x_test, y_test) = mnist.load_data()"
   ]
  },
  {
   "cell_type": "code",
   "execution_count": 5,
   "id": "7aefc3fb",
   "metadata": {},
   "outputs": [],
   "source": [
    "num_labels = len(np.unique(y_train))\n",
    "y_train = to_categorical(y_train)\n",
    "y_test = to_categorical(y_test)"
   ]
  },
  {
   "cell_type": "code",
   "execution_count": 8,
   "id": "effe5869",
   "metadata": {},
   "outputs": [],
   "source": [
    "image_size = x_train.shape[1]\n",
    "x_train = np.reshape(x_train, [-1, image_size, image_size, 1])\n",
    "x_test = np.reshape(x_test, [-1, image_size, image_size, 1])\n",
    "x_train = x_train.astype('float32')/255\n",
    "x_test = x_test.astype('float32')/255"
   ]
  },
  {
   "cell_type": "code",
   "execution_count": 9,
   "id": "0f5c29e1",
   "metadata": {},
   "outputs": [],
   "source": [
    "input_shape = (image_size, image_size, 1)\n",
    "batch_szie = 128\n",
    "kernel_size = 3\n",
    "filters = 64\n",
    "dropout = 0.3"
   ]
  },
  {
   "cell_type": "code",
   "execution_count": 14,
   "id": "192c54d8",
   "metadata": {},
   "outputs": [
    {
     "name": "stdout",
     "output_type": "stream",
     "text": [
      "WARNING:tensorflow:From C:\\Users\\prave\\AppData\\Local\\Packages\\PythonSoftwareFoundation.Python.3.10_qbz5n2kfra8p0\\LocalCache\\local-packages\\Python310\\site-packages\\keras\\src\\backend.py:1398: The name tf.executing_eagerly_outside_functions is deprecated. Please use tf.compat.v1.executing_eagerly_outside_functions instead.\n",
      "\n",
      "WARNING:tensorflow:From C:\\Users\\prave\\AppData\\Local\\Packages\\PythonSoftwareFoundation.Python.3.10_qbz5n2kfra8p0\\LocalCache\\local-packages\\Python310\\site-packages\\keras\\src\\layers\\pooling\\max_pooling2d.py:161: The name tf.nn.max_pool is deprecated. Please use tf.nn.max_pool2d instead.\n",
      "\n"
     ]
    }
   ],
   "source": [
    "inputs = Input(shape = input_shape)\n",
    "y = Conv2D(filters = filters, kernel_size = kernel_size, activation = 'relu')(inputs)\n",
    "y = MaxPooling2D()(y)\n",
    "y = Conv2D(filters = filters, kernel_size = kernel_size, activation = 'relu')(y)\n",
    "y = MaxPooling2D()(y)\n",
    "y = Conv2D(filters = filters, kernel_size = kernel_size, activation = 'relu')(y)\n",
    "y = Flatten()(y)\n",
    "y = Dropout(dropout)(y)\n",
    "outputs = Dense(num_labels, activation = 'softmax')(y)"
   ]
  },
  {
   "cell_type": "code",
   "execution_count": 16,
   "id": "7c9c25d5",
   "metadata": {},
   "outputs": [
    {
     "name": "stdout",
     "output_type": "stream",
     "text": [
      "Model: \"model_1\"\n",
      "_________________________________________________________________\n",
      " Layer (type)                Output Shape              Param #   \n",
      "=================================================================\n",
      " input_1 (InputLayer)        [(None, 28, 28, 1)]       0         \n",
      "                                                                 \n",
      " conv2d (Conv2D)             (None, 26, 26, 64)        640       \n",
      "                                                                 \n",
      " max_pooling2d (MaxPooling2  (None, 13, 13, 64)        0         \n",
      " D)                                                              \n",
      "                                                                 \n",
      " conv2d_1 (Conv2D)           (None, 11, 11, 64)        36928     \n",
      "                                                                 \n",
      " max_pooling2d_1 (MaxPoolin  (None, 5, 5, 64)          0         \n",
      " g2D)                                                            \n",
      "                                                                 \n",
      " conv2d_2 (Conv2D)           (None, 3, 3, 64)          36928     \n",
      "                                                                 \n",
      " flatten (Flatten)           (None, 576)               0         \n",
      "                                                                 \n",
      " dropout (Dropout)           (None, 576)               0         \n",
      "                                                                 \n",
      " dense (Dense)               (None, 10)                5770      \n",
      "                                                                 \n",
      "=================================================================\n",
      "Total params: 80266 (313.54 KB)\n",
      "Trainable params: 80266 (313.54 KB)\n",
      "Non-trainable params: 0 (0.00 Byte)\n",
      "_________________________________________________________________\n",
      "WARNING:tensorflow:From C:\\Users\\prave\\AppData\\Local\\Packages\\PythonSoftwareFoundation.Python.3.10_qbz5n2kfra8p0\\LocalCache\\local-packages\\Python310\\site-packages\\keras\\src\\optimizers\\__init__.py:309: The name tf.train.Optimizer is deprecated. Please use tf.compat.v1.train.Optimizer instead.\n",
      "\n"
     ]
    }
   ],
   "source": [
    "model = Model(inputs = inputs, outputs = outputs)\n",
    "model.summary()\n",
    "model.compile(loss = 'categorical_crossentropy',\n",
    "              optimizer = 'adam',\n",
    "              metrics = ['accuracy'])"
   ]
  },
  {
   "cell_type": "code",
   "execution_count": 17,
   "id": "1310e381",
   "metadata": {},
   "outputs": [
    {
     "name": "stdout",
     "output_type": "stream",
     "text": [
      "Epoch 1/20\n",
      "WARNING:tensorflow:From C:\\Users\\prave\\AppData\\Local\\Packages\\PythonSoftwareFoundation.Python.3.10_qbz5n2kfra8p0\\LocalCache\\local-packages\\Python310\\site-packages\\keras\\src\\utils\\tf_utils.py:492: The name tf.ragged.RaggedTensorValue is deprecated. Please use tf.compat.v1.ragged.RaggedTensorValue instead.\n",
      "\n",
      "WARNING:tensorflow:From C:\\Users\\prave\\AppData\\Local\\Packages\\PythonSoftwareFoundation.Python.3.10_qbz5n2kfra8p0\\LocalCache\\local-packages\\Python310\\site-packages\\keras\\src\\engine\\base_layer_utils.py:384: The name tf.executing_eagerly_outside_functions is deprecated. Please use tf.compat.v1.executing_eagerly_outside_functions instead.\n",
      "\n",
      "469/469 [==============================] - 16s 31ms/step - loss: 0.2779 - accuracy: 0.9139 - val_loss: 0.0663 - val_accuracy: 0.9782\n",
      "Epoch 2/20\n",
      "469/469 [==============================] - 19s 40ms/step - loss: 0.0742 - accuracy: 0.9773 - val_loss: 0.0374 - val_accuracy: 0.9880\n",
      "Epoch 3/20\n",
      "469/469 [==============================] - 20s 43ms/step - loss: 0.0533 - accuracy: 0.9834 - val_loss: 0.0372 - val_accuracy: 0.9888\n",
      "Epoch 4/20\n",
      "469/469 [==============================] - 20s 43ms/step - loss: 0.0432 - accuracy: 0.9866 - val_loss: 0.0269 - val_accuracy: 0.9905\n",
      "Epoch 5/20\n",
      "469/469 [==============================] - 21s 45ms/step - loss: 0.0350 - accuracy: 0.9889 - val_loss: 0.0225 - val_accuracy: 0.9922\n",
      "Epoch 6/20\n",
      "469/469 [==============================] - 24s 51ms/step - loss: 0.0305 - accuracy: 0.9907 - val_loss: 0.0211 - val_accuracy: 0.9928\n",
      "Epoch 7/20\n",
      "469/469 [==============================] - 22s 47ms/step - loss: 0.0288 - accuracy: 0.9910 - val_loss: 0.0220 - val_accuracy: 0.9921\n",
      "Epoch 8/20\n",
      "469/469 [==============================] - 22s 47ms/step - loss: 0.0239 - accuracy: 0.9920 - val_loss: 0.0204 - val_accuracy: 0.9936\n",
      "Epoch 9/20\n",
      "469/469 [==============================] - 22s 48ms/step - loss: 0.0209 - accuracy: 0.9933 - val_loss: 0.0272 - val_accuracy: 0.9919\n",
      "Epoch 10/20\n",
      "469/469 [==============================] - 20s 42ms/step - loss: 0.0210 - accuracy: 0.9930 - val_loss: 0.0207 - val_accuracy: 0.9941\n",
      "Epoch 11/20\n",
      "469/469 [==============================] - 23s 50ms/step - loss: 0.0182 - accuracy: 0.9941 - val_loss: 0.0217 - val_accuracy: 0.9927\n",
      "Epoch 12/20\n",
      "469/469 [==============================] - 23s 49ms/step - loss: 0.0154 - accuracy: 0.9950 - val_loss: 0.0205 - val_accuracy: 0.9937\n",
      "Epoch 13/20\n",
      "469/469 [==============================] - 21s 45ms/step - loss: 0.0159 - accuracy: 0.9947 - val_loss: 0.0202 - val_accuracy: 0.9942\n",
      "Epoch 14/20\n",
      "469/469 [==============================] - 20s 43ms/step - loss: 0.0129 - accuracy: 0.9955 - val_loss: 0.0187 - val_accuracy: 0.9943\n",
      "Epoch 15/20\n",
      "469/469 [==============================] - 20s 43ms/step - loss: 0.0122 - accuracy: 0.9962 - val_loss: 0.0220 - val_accuracy: 0.9930\n",
      "Epoch 16/20\n",
      "469/469 [==============================] - 21s 44ms/step - loss: 0.0114 - accuracy: 0.9960 - val_loss: 0.0224 - val_accuracy: 0.9938\n",
      "Epoch 17/20\n",
      "469/469 [==============================] - 21s 44ms/step - loss: 0.0115 - accuracy: 0.9959 - val_loss: 0.0242 - val_accuracy: 0.9925\n",
      "Epoch 18/20\n",
      "469/469 [==============================] - 21s 44ms/step - loss: 0.0090 - accuracy: 0.9966 - val_loss: 0.0209 - val_accuracy: 0.9934\n",
      "Epoch 19/20\n",
      "469/469 [==============================] - 21s 44ms/step - loss: 0.0084 - accuracy: 0.9973 - val_loss: 0.0230 - val_accuracy: 0.9938\n",
      "Epoch 20/20\n",
      "469/469 [==============================] - 21s 45ms/step - loss: 0.0091 - accuracy: 0.9969 - val_loss: 0.0223 - val_accuracy: 0.9938\n"
     ]
    },
    {
     "data": {
      "text/plain": [
       "<keras.src.callbacks.History at 0x220e6045a80>"
      ]
     },
     "execution_count": 17,
     "metadata": {},
     "output_type": "execute_result"
    }
   ],
   "source": [
    "model.fit(x_train, y_train, validation_data = (x_test, y_test),\n",
    "          epochs = 20,\n",
    "          batch_size = batch_szie)"
   ]
  },
  {
   "cell_type": "code",
   "execution_count": 18,
   "id": "a8315a59",
   "metadata": {},
   "outputs": [],
   "source": [
    "score = model.evaluate(x_test, y_test,\n",
    "                       batch_size = batch_szie,\n",
    "                       verbose = 0)"
   ]
  },
  {
   "cell_type": "code",
   "execution_count": 19,
   "id": "d6ba962a",
   "metadata": {},
   "outputs": [
    {
     "name": "stdout",
     "output_type": "stream",
     "text": [
      "[0.022349141538143158, 0.9937999844551086]\n"
     ]
    }
   ],
   "source": [
    "print(score)"
   ]
  },
  {
   "cell_type": "code",
   "execution_count": null,
   "id": "bcef084b",
   "metadata": {},
   "outputs": [],
   "source": []
  }
 ],
 "metadata": {
  "kernelspec": {
   "display_name": "Python 3",
   "language": "python",
   "name": "python3"
  },
  "language_info": {
   "codemirror_mode": {
    "name": "ipython",
    "version": 3
   },
   "file_extension": ".py",
   "mimetype": "text/x-python",
   "name": "python",
   "nbconvert_exporter": "python",
   "pygments_lexer": "ipython3",
   "version": "3.10.11"
  }
 },
 "nbformat": 4,
 "nbformat_minor": 5
}
