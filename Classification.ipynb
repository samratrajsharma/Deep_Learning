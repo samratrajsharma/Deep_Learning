{
 "cells": [
  {
   "cell_type": "code",
   "execution_count": 1,
   "metadata": {},
   "outputs": [
    {
     "name": "stdout",
     "output_type": "stream",
     "text": [
      "WARNING:tensorflow:From C:\\Users\\prave\\AppData\\Local\\Packages\\PythonSoftwareFoundation.Python.3.10_qbz5n2kfra8p0\\LocalCache\\local-packages\\Python310\\site-packages\\keras\\src\\losses.py:2976: The name tf.losses.sparse_softmax_cross_entropy is deprecated. Please use tf.compat.v1.losses.sparse_softmax_cross_entropy instead.\n",
      "\n"
     ]
    }
   ],
   "source": [
    "import tensorflow as tf\n",
    "import pandas as pd"
   ]
  },
  {
   "cell_type": "code",
   "execution_count": 9,
   "metadata": {},
   "outputs": [],
   "source": [
    "CSV_COLUMN_NAMES = ['SepalLenght', 'SepalWidth', 'PetalLength', 'PetalWidth', 'Species']\n",
    "SPECIES = ['Setosa', 'Versicolor', 'Virginica']"
   ]
  },
  {
   "cell_type": "code",
   "execution_count": 10,
   "metadata": {},
   "outputs": [],
   "source": [
    "train_path = tf.keras.utils.get_file(\n",
    "    'iris_training.csv', \"https://storage.googleapis.com/download.tensorflow.org/data/iris_training.csv\")\n",
    "test_path = tf.keras.utils.get_file(\n",
    "    'iris_test.csv',\"https://storage.googleapis.com/download.tensorflow.org/data/iris_training.csv\"\n",
    ")\n",
    "train = pd.read_csv(train_path, names = CSV_COLUMN_NAMES, header = 0)\n",
    "test = pd.read_csv(test_path, names = CSV_COLUMN_NAMES, header = 0)"
   ]
  },
  {
   "cell_type": "code",
   "execution_count": 11,
   "metadata": {},
   "outputs": [
    {
     "data": {
      "text/html": [
       "<div>\n",
       "<style scoped>\n",
       "    .dataframe tbody tr th:only-of-type {\n",
       "        vertical-align: middle;\n",
       "    }\n",
       "\n",
       "    .dataframe tbody tr th {\n",
       "        vertical-align: top;\n",
       "    }\n",
       "\n",
       "    .dataframe thead th {\n",
       "        text-align: right;\n",
       "    }\n",
       "</style>\n",
       "<table border=\"1\" class=\"dataframe\">\n",
       "  <thead>\n",
       "    <tr style=\"text-align: right;\">\n",
       "      <th></th>\n",
       "      <th>SepalLenght</th>\n",
       "      <th>SepalWidth</th>\n",
       "      <th>PetalLength</th>\n",
       "      <th>PetalWidth</th>\n",
       "      <th>Species</th>\n",
       "    </tr>\n",
       "  </thead>\n",
       "  <tbody>\n",
       "    <tr>\n",
       "      <th>0</th>\n",
       "      <td>6.4</td>\n",
       "      <td>2.8</td>\n",
       "      <td>5.6</td>\n",
       "      <td>2.2</td>\n",
       "      <td>2</td>\n",
       "    </tr>\n",
       "    <tr>\n",
       "      <th>1</th>\n",
       "      <td>5.0</td>\n",
       "      <td>2.3</td>\n",
       "      <td>3.3</td>\n",
       "      <td>1.0</td>\n",
       "      <td>1</td>\n",
       "    </tr>\n",
       "    <tr>\n",
       "      <th>2</th>\n",
       "      <td>4.9</td>\n",
       "      <td>2.5</td>\n",
       "      <td>4.5</td>\n",
       "      <td>1.7</td>\n",
       "      <td>2</td>\n",
       "    </tr>\n",
       "    <tr>\n",
       "      <th>3</th>\n",
       "      <td>4.9</td>\n",
       "      <td>3.1</td>\n",
       "      <td>1.5</td>\n",
       "      <td>0.1</td>\n",
       "      <td>0</td>\n",
       "    </tr>\n",
       "    <tr>\n",
       "      <th>4</th>\n",
       "      <td>5.7</td>\n",
       "      <td>3.8</td>\n",
       "      <td>1.7</td>\n",
       "      <td>0.3</td>\n",
       "      <td>0</td>\n",
       "    </tr>\n",
       "  </tbody>\n",
       "</table>\n",
       "</div>"
      ],
      "text/plain": [
       "   SepalLenght  SepalWidth  PetalLength  PetalWidth  Species\n",
       "0          6.4         2.8          5.6         2.2        2\n",
       "1          5.0         2.3          3.3         1.0        1\n",
       "2          4.9         2.5          4.5         1.7        2\n",
       "3          4.9         3.1          1.5         0.1        0\n",
       "4          5.7         3.8          1.7         0.3        0"
      ]
     },
     "execution_count": 11,
     "metadata": {},
     "output_type": "execute_result"
    }
   ],
   "source": [
    "train.head()"
   ]
  },
  {
   "cell_type": "code",
   "execution_count": 12,
   "metadata": {},
   "outputs": [
    {
     "data": {
      "text/html": [
       "<div>\n",
       "<style scoped>\n",
       "    .dataframe tbody tr th:only-of-type {\n",
       "        vertical-align: middle;\n",
       "    }\n",
       "\n",
       "    .dataframe tbody tr th {\n",
       "        vertical-align: top;\n",
       "    }\n",
       "\n",
       "    .dataframe thead th {\n",
       "        text-align: right;\n",
       "    }\n",
       "</style>\n",
       "<table border=\"1\" class=\"dataframe\">\n",
       "  <thead>\n",
       "    <tr style=\"text-align: right;\">\n",
       "      <th></th>\n",
       "      <th>SepalLenght</th>\n",
       "      <th>SepalWidth</th>\n",
       "      <th>PetalLength</th>\n",
       "      <th>PetalWidth</th>\n",
       "    </tr>\n",
       "  </thead>\n",
       "  <tbody>\n",
       "    <tr>\n",
       "      <th>0</th>\n",
       "      <td>6.4</td>\n",
       "      <td>2.8</td>\n",
       "      <td>5.6</td>\n",
       "      <td>2.2</td>\n",
       "    </tr>\n",
       "    <tr>\n",
       "      <th>1</th>\n",
       "      <td>5.0</td>\n",
       "      <td>2.3</td>\n",
       "      <td>3.3</td>\n",
       "      <td>1.0</td>\n",
       "    </tr>\n",
       "    <tr>\n",
       "      <th>2</th>\n",
       "      <td>4.9</td>\n",
       "      <td>2.5</td>\n",
       "      <td>4.5</td>\n",
       "      <td>1.7</td>\n",
       "    </tr>\n",
       "    <tr>\n",
       "      <th>3</th>\n",
       "      <td>4.9</td>\n",
       "      <td>3.1</td>\n",
       "      <td>1.5</td>\n",
       "      <td>0.1</td>\n",
       "    </tr>\n",
       "    <tr>\n",
       "      <th>4</th>\n",
       "      <td>5.7</td>\n",
       "      <td>3.8</td>\n",
       "      <td>1.7</td>\n",
       "      <td>0.3</td>\n",
       "    </tr>\n",
       "  </tbody>\n",
       "</table>\n",
       "</div>"
      ],
      "text/plain": [
       "   SepalLenght  SepalWidth  PetalLength  PetalWidth\n",
       "0          6.4         2.8          5.6         2.2\n",
       "1          5.0         2.3          3.3         1.0\n",
       "2          4.9         2.5          4.5         1.7\n",
       "3          4.9         3.1          1.5         0.1\n",
       "4          5.7         3.8          1.7         0.3"
      ]
     },
     "execution_count": 12,
     "metadata": {},
     "output_type": "execute_result"
    }
   ],
   "source": [
    "train_y = train.pop('Species')\n",
    "test_y = test.pop('Species')\n",
    "train.head()\n"
   ]
  },
  {
   "cell_type": "code",
   "execution_count": 13,
   "metadata": {},
   "outputs": [
    {
     "data": {
      "text/plain": [
       "0    2\n",
       "1    1\n",
       "2    2\n",
       "3    0\n",
       "4    0\n",
       "Name: Species, dtype: int64"
      ]
     },
     "execution_count": 13,
     "metadata": {},
     "output_type": "execute_result"
    }
   ],
   "source": [
    "train_y.head()"
   ]
  },
  {
   "cell_type": "code",
   "execution_count": 20,
   "metadata": {},
   "outputs": [],
   "source": [
    "def input_fn(features, labels, training = True, batch_size = 256):\n",
    "    dataset = tf.data.Dataset.from_tensor_slices((dict(features), labels))\n",
    "\n",
    "    if training:\n",
    "        dataset = dataset.shuffle(1000).repeat()\n",
    "\n",
    "    return dataset.batch(batch_size)\n",
    "    "
   ]
  },
  {
   "cell_type": "code",
   "execution_count": 21,
   "metadata": {},
   "outputs": [
    {
     "name": "stdout",
     "output_type": "stream",
     "text": [
      "[NumericColumn(key='SepalLenght', shape=(1,), default_value=None, dtype=tf.float32, normalizer_fn=None), NumericColumn(key='SepalWidth', shape=(1,), default_value=None, dtype=tf.float32, normalizer_fn=None), NumericColumn(key='PetalLength', shape=(1,), default_value=None, dtype=tf.float32, normalizer_fn=None), NumericColumn(key='PetalWidth', shape=(1,), default_value=None, dtype=tf.float32, normalizer_fn=None)]\n"
     ]
    }
   ],
   "source": [
    "my_feature_columns = []\n",
    "for key in train.keys():\n",
    "    my_feature_columns.append(tf.feature_column.numeric_column(key = key))\n",
    "print(my_feature_columns)"
   ]
  },
  {
   "cell_type": "code",
   "execution_count": 22,
   "metadata": {},
   "outputs": [
    {
     "name": "stdout",
     "output_type": "stream",
     "text": [
      "INFO:tensorflow:Using default config.\n",
      "WARNING:tensorflow:Using temporary folder as model directory: C:\\WINDOWS\\TEMP\\tmpdi3xc1w0\n",
      "INFO:tensorflow:Using config: {'_model_dir': 'C:\\\\WINDOWS\\\\TEMP\\\\tmpdi3xc1w0', '_tf_random_seed': None, '_save_summary_steps': 100, '_save_checkpoints_steps': None, '_save_checkpoints_secs': 600, '_session_config': allow_soft_placement: true\n",
      "graph_options {\n",
      "  rewrite_options {\n",
      "    meta_optimizer_iterations: ONE\n",
      "  }\n",
      "}\n",
      ", '_keep_checkpoint_max': 5, '_keep_checkpoint_every_n_hours': 10000, '_log_step_count_steps': 100, '_train_distribute': None, '_device_fn': None, '_protocol': None, '_eval_distribute': None, '_experimental_distribute': None, '_experimental_max_worker_delay_secs': None, '_session_creation_timeout_secs': 7200, '_checkpoint_save_graph_def': True, '_service': None, '_cluster_spec': ClusterSpec({}), '_task_type': 'worker', '_task_id': 0, '_global_id_in_cluster': 0, '_master': '', '_evaluation_master': '', '_is_chief': True, '_num_ps_replicas': 0, '_num_worker_replicas': 1}\n"
     ]
    }
   ],
   "source": [
    "classifier = tf.estimator.DNNClassifier(\n",
    "    feature_columns= my_feature_columns,\n",
    "    hidden_units=[30,30],\n",
    "    n_classes = 3\n",
    ")"
   ]
  },
  {
   "cell_type": "code",
   "execution_count": 23,
   "metadata": {},
   "outputs": [
    {
     "name": "stdout",
     "output_type": "stream",
     "text": [
      "WARNING:tensorflow:From C:\\Users\\prave\\AppData\\Local\\Packages\\PythonSoftwareFoundation.Python.3.10_qbz5n2kfra8p0\\LocalCache\\local-packages\\Python310\\site-packages\\tensorflow_estimator\\python\\estimator\\util.py:58: The name tf.data.make_initializable_iterator is deprecated. Please use tf.compat.v1.data.make_initializable_iterator instead.\n",
      "\n",
      "INFO:tensorflow:Calling model_fn.\n",
      "WARNING:tensorflow:From C:\\Users\\prave\\AppData\\Local\\Packages\\PythonSoftwareFoundation.Python.3.10_qbz5n2kfra8p0\\LocalCache\\local-packages\\Python310\\site-packages\\keras\\src\\utils\\version_utils.py:76: The name tf.executing_eagerly_outside_functions is deprecated. Please use tf.compat.v1.executing_eagerly_outside_functions instead.\n",
      "\n",
      "WARNING:tensorflow:From C:\\Users\\prave\\AppData\\Local\\Packages\\PythonSoftwareFoundation.Python.3.10_qbz5n2kfra8p0\\LocalCache\\local-packages\\Python310\\site-packages\\tensorflow\\python\\autograph\\converters\\directives.py:126: The name tf.summary.scalar is deprecated. Please use tf.compat.v1.summary.scalar instead.\n",
      "\n",
      "WARNING:tensorflow:From C:\\Users\\prave\\AppData\\Local\\Packages\\PythonSoftwareFoundation.Python.3.10_qbz5n2kfra8p0\\LocalCache\\local-packages\\Python310\\site-packages\\keras\\src\\optimizers\\legacy\\adagrad.py:93: calling Constant.__init__ (from tensorflow.python.ops.init_ops) with dtype is deprecated and will be removed in a future version.\n",
      "Instructions for updating:\n",
      "Call initializer instance with the dtype argument instead of passing it to the constructor\n",
      "WARNING:tensorflow:From C:\\Users\\prave\\AppData\\Local\\Packages\\PythonSoftwareFoundation.Python.3.10_qbz5n2kfra8p0\\LocalCache\\local-packages\\Python310\\site-packages\\tensorflow_estimator\\python\\estimator\\model_fn.py:250: EstimatorSpec.__new__ (from tensorflow_estimator.python.estimator.model_fn) is deprecated and will be removed in a future version.\n",
      "Instructions for updating:\n",
      "Use tf.keras instead.\n",
      "INFO:tensorflow:Done calling model_fn.\n",
      "WARNING:tensorflow:From C:\\Users\\prave\\AppData\\Local\\Packages\\PythonSoftwareFoundation.Python.3.10_qbz5n2kfra8p0\\LocalCache\\local-packages\\Python310\\site-packages\\tensorflow_estimator\\python\\estimator\\estimator.py:1416: NanTensorHook.__init__ (from tensorflow.python.training.basic_session_run_hooks) is deprecated and will be removed in a future version.\n",
      "Instructions for updating:\n",
      "Use tf.keras instead.\n",
      "WARNING:tensorflow:From C:\\Users\\prave\\AppData\\Local\\Packages\\PythonSoftwareFoundation.Python.3.10_qbz5n2kfra8p0\\LocalCache\\local-packages\\Python310\\site-packages\\tensorflow_estimator\\python\\estimator\\estimator.py:1419: LoggingTensorHook.__init__ (from tensorflow.python.training.basic_session_run_hooks) is deprecated and will be removed in a future version.\n",
      "Instructions for updating:\n",
      "Use tf.keras instead.\n",
      "WARNING:tensorflow:From C:\\Users\\prave\\AppData\\Local\\Packages\\PythonSoftwareFoundation.Python.3.10_qbz5n2kfra8p0\\LocalCache\\local-packages\\Python310\\site-packages\\tensorflow\\python\\training\\basic_session_run_hooks.py:232: SecondOrStepTimer.__init__ (from tensorflow.python.training.basic_session_run_hooks) is deprecated and will be removed in a future version.\n",
      "Instructions for updating:\n",
      "Use tf.keras instead.\n",
      "WARNING:tensorflow:From C:\\Users\\prave\\AppData\\Local\\Packages\\PythonSoftwareFoundation.Python.3.10_qbz5n2kfra8p0\\LocalCache\\local-packages\\Python310\\site-packages\\tensorflow_estimator\\python\\estimator\\estimator.py:1456: CheckpointSaverHook.__init__ (from tensorflow.python.training.basic_session_run_hooks) is deprecated and will be removed in a future version.\n",
      "Instructions for updating:\n",
      "Use tf.keras instead.\n",
      "INFO:tensorflow:Create CheckpointSaverHook.\n",
      "WARNING:tensorflow:From C:\\Users\\prave\\AppData\\Local\\Packages\\PythonSoftwareFoundation.Python.3.10_qbz5n2kfra8p0\\LocalCache\\local-packages\\Python310\\site-packages\\tensorflow\\python\\training\\monitored_session.py:579: StepCounterHook.__init__ (from tensorflow.python.training.basic_session_run_hooks) is deprecated and will be removed in a future version.\n",
      "Instructions for updating:\n",
      "Use tf.keras instead.\n",
      "WARNING:tensorflow:From C:\\Users\\prave\\AppData\\Local\\Packages\\PythonSoftwareFoundation.Python.3.10_qbz5n2kfra8p0\\LocalCache\\local-packages\\Python310\\site-packages\\tensorflow\\python\\training\\monitored_session.py:586: SummarySaverHook.__init__ (from tensorflow.python.training.basic_session_run_hooks) is deprecated and will be removed in a future version.\n",
      "Instructions for updating:\n",
      "Use tf.keras instead.\n",
      "INFO:tensorflow:Graph was finalized.\n",
      "INFO:tensorflow:Running local_init_op.\n",
      "INFO:tensorflow:Done running local_init_op.\n",
      "INFO:tensorflow:Calling checkpoint listeners before saving checkpoint 0...\n",
      "INFO:tensorflow:Saving checkpoints for 0 into C:\\WINDOWS\\TEMP\\tmpdi3xc1w0\\model.ckpt.\n",
      "INFO:tensorflow:Calling checkpoint listeners after saving checkpoint 0...\n",
      "WARNING:tensorflow:From C:\\Users\\prave\\AppData\\Local\\Packages\\PythonSoftwareFoundation.Python.3.10_qbz5n2kfra8p0\\LocalCache\\local-packages\\Python310\\site-packages\\tensorflow\\python\\training\\monitored_session.py:1455: SessionRunArgs.__new__ (from tensorflow.python.training.session_run_hook) is deprecated and will be removed in a future version.\n",
      "Instructions for updating:\n",
      "Use tf.keras instead.\n",
      "WARNING:tensorflow:From C:\\Users\\prave\\AppData\\Local\\Packages\\PythonSoftwareFoundation.Python.3.10_qbz5n2kfra8p0\\LocalCache\\local-packages\\Python310\\site-packages\\tensorflow\\python\\training\\monitored_session.py:1454: SessionRunContext.__init__ (from tensorflow.python.training.session_run_hook) is deprecated and will be removed in a future version.\n",
      "Instructions for updating:\n",
      "Use tf.keras instead.\n",
      "WARNING:tensorflow:From C:\\Users\\prave\\AppData\\Local\\Packages\\PythonSoftwareFoundation.Python.3.10_qbz5n2kfra8p0\\LocalCache\\local-packages\\Python310\\site-packages\\tensorflow\\python\\training\\monitored_session.py:1474: SessionRunValues.__new__ (from tensorflow.python.training.session_run_hook) is deprecated and will be removed in a future version.\n",
      "Instructions for updating:\n",
      "Use tf.keras instead.\n",
      "INFO:tensorflow:loss = 1.3765469, step = 0\n",
      "INFO:tensorflow:global_step/sec: 501.666\n",
      "INFO:tensorflow:loss = 0.9497693, step = 100 (0.199 sec)\n",
      "INFO:tensorflow:global_step/sec: 812.351\n",
      "INFO:tensorflow:loss = 0.8427788, step = 200 (0.123 sec)\n",
      "INFO:tensorflow:global_step/sec: 882.291\n",
      "INFO:tensorflow:loss = 0.77646476, step = 300 (0.113 sec)\n",
      "INFO:tensorflow:global_step/sec: 686.718\n",
      "INFO:tensorflow:loss = 0.7246736, step = 400 (0.148 sec)\n",
      "INFO:tensorflow:global_step/sec: 815.922\n",
      "INFO:tensorflow:loss = 0.686524, step = 500 (0.120 sec)\n",
      "INFO:tensorflow:global_step/sec: 859.973\n",
      "INFO:tensorflow:loss = 0.6481483, step = 600 (0.120 sec)\n",
      "INFO:tensorflow:global_step/sec: 773.205\n",
      "INFO:tensorflow:loss = 0.6355009, step = 700 (0.125 sec)\n",
      "INFO:tensorflow:global_step/sec: 728.233\n",
      "INFO:tensorflow:loss = 0.59689593, step = 800 (0.137 sec)\n",
      "INFO:tensorflow:global_step/sec: 912.565\n",
      "INFO:tensorflow:loss = 0.58220387, step = 900 (0.113 sec)\n",
      "INFO:tensorflow:global_step/sec: 837.064\n",
      "INFO:tensorflow:loss = 0.553897, step = 1000 (0.121 sec)\n",
      "INFO:tensorflow:global_step/sec: 951.014\n",
      "INFO:tensorflow:loss = 0.5469197, step = 1100 (0.100 sec)\n",
      "INFO:tensorflow:global_step/sec: 778.758\n",
      "INFO:tensorflow:loss = 0.53008556, step = 1200 (0.128 sec)\n",
      "INFO:tensorflow:global_step/sec: 878.736\n",
      "INFO:tensorflow:loss = 0.51478285, step = 1300 (0.114 sec)\n",
      "INFO:tensorflow:global_step/sec: 835.183\n",
      "INFO:tensorflow:loss = 0.50489306, step = 1400 (0.120 sec)\n",
      "INFO:tensorflow:global_step/sec: 999.877\n",
      "INFO:tensorflow:loss = 0.49003255, step = 1500 (0.100 sec)\n",
      "INFO:tensorflow:global_step/sec: 856.3\n",
      "INFO:tensorflow:loss = 0.48988172, step = 1600 (0.117 sec)\n",
      "INFO:tensorflow:global_step/sec: 921.872\n",
      "INFO:tensorflow:loss = 0.46951097, step = 1700 (0.108 sec)\n",
      "INFO:tensorflow:global_step/sec: 926.185\n",
      "INFO:tensorflow:loss = 0.4586615, step = 1800 (0.108 sec)\n",
      "INFO:tensorflow:global_step/sec: 942.93\n",
      "INFO:tensorflow:loss = 0.4540159, step = 1900 (0.106 sec)\n",
      "INFO:tensorflow:global_step/sec: 888.554\n",
      "INFO:tensorflow:loss = 0.43562526, step = 2000 (0.113 sec)\n",
      "INFO:tensorflow:global_step/sec: 864.994\n",
      "INFO:tensorflow:loss = 0.4359319, step = 2100 (0.128 sec)\n",
      "INFO:tensorflow:global_step/sec: 721.307\n",
      "INFO:tensorflow:loss = 0.435956, step = 2200 (0.127 sec)\n",
      "INFO:tensorflow:global_step/sec: 904.867\n",
      "INFO:tensorflow:loss = 0.4302755, step = 2300 (0.111 sec)\n",
      "INFO:tensorflow:global_step/sec: 1003.25\n",
      "INFO:tensorflow:loss = 0.42003864, step = 2400 (0.100 sec)\n",
      "INFO:tensorflow:global_step/sec: 896.276\n",
      "INFO:tensorflow:loss = 0.39644822, step = 2500 (0.116 sec)\n",
      "INFO:tensorflow:global_step/sec: 821.036\n",
      "INFO:tensorflow:loss = 0.39611036, step = 2600 (0.117 sec)\n",
      "INFO:tensorflow:global_step/sec: 857.512\n",
      "INFO:tensorflow:loss = 0.39653227, step = 2700 (0.117 sec)\n",
      "INFO:tensorflow:global_step/sec: 879.425\n",
      "INFO:tensorflow:loss = 0.40529677, step = 2800 (0.119 sec)\n",
      "INFO:tensorflow:global_step/sec: 835.562\n",
      "INFO:tensorflow:loss = 0.37834185, step = 2900 (0.115 sec)\n",
      "INFO:tensorflow:global_step/sec: 752.799\n",
      "INFO:tensorflow:loss = 0.3854268, step = 3000 (0.134 sec)\n",
      "INFO:tensorflow:global_step/sec: 924.841\n",
      "INFO:tensorflow:loss = 0.37683707, step = 3100 (0.107 sec)\n",
      "INFO:tensorflow:global_step/sec: 898.862\n",
      "INFO:tensorflow:loss = 0.3772102, step = 3200 (0.111 sec)\n",
      "INFO:tensorflow:global_step/sec: 902.11\n",
      "INFO:tensorflow:loss = 0.3740837, step = 3300 (0.114 sec)\n",
      "INFO:tensorflow:global_step/sec: 731.277\n",
      "INFO:tensorflow:loss = 0.35281602, step = 3400 (0.133 sec)\n",
      "INFO:tensorflow:global_step/sec: 819.661\n",
      "INFO:tensorflow:loss = 0.3562277, step = 3500 (0.122 sec)\n",
      "INFO:tensorflow:global_step/sec: 924.627\n",
      "INFO:tensorflow:loss = 0.35605812, step = 3600 (0.108 sec)\n",
      "INFO:tensorflow:global_step/sec: 894.195\n",
      "INFO:tensorflow:loss = 0.35197872, step = 3700 (0.112 sec)\n",
      "INFO:tensorflow:global_step/sec: 925.386\n",
      "INFO:tensorflow:loss = 0.34700102, step = 3800 (0.108 sec)\n",
      "INFO:tensorflow:global_step/sec: 797.762\n",
      "INFO:tensorflow:loss = 0.33871162, step = 3900 (0.125 sec)\n",
      "INFO:tensorflow:global_step/sec: 899.669\n",
      "INFO:tensorflow:loss = 0.33427942, step = 4000 (0.111 sec)\n",
      "INFO:tensorflow:global_step/sec: 882.33\n",
      "INFO:tensorflow:loss = 0.34370935, step = 4100 (0.113 sec)\n",
      "INFO:tensorflow:global_step/sec: 999.856\n",
      "INFO:tensorflow:loss = 0.3340546, step = 4200 (0.112 sec)\n",
      "INFO:tensorflow:global_step/sec: 856.557\n",
      "INFO:tensorflow:loss = 0.33108926, step = 4300 (0.105 sec)\n",
      "INFO:tensorflow:global_step/sec: 972.667\n",
      "INFO:tensorflow:loss = 0.3171667, step = 4400 (0.103 sec)\n",
      "INFO:tensorflow:global_step/sec: 826.992\n",
      "INFO:tensorflow:loss = 0.31593797, step = 4500 (0.121 sec)\n",
      "INFO:tensorflow:global_step/sec: 939.283\n",
      "INFO:tensorflow:loss = 0.31757888, step = 4600 (0.106 sec)\n",
      "INFO:tensorflow:global_step/sec: 887.351\n",
      "INFO:tensorflow:loss = 0.31147942, step = 4700 (0.113 sec)\n",
      "INFO:tensorflow:global_step/sec: 932.783\n",
      "INFO:tensorflow:loss = 0.30859262, step = 4800 (0.107 sec)\n",
      "INFO:tensorflow:global_step/sec: 1002.08\n",
      "INFO:tensorflow:loss = 0.29124928, step = 4900 (0.100 sec)\n",
      "INFO:tensorflow:Calling checkpoint listeners before saving checkpoint 5000...\n",
      "INFO:tensorflow:Saving checkpoints for 5000 into C:\\WINDOWS\\TEMP\\tmpdi3xc1w0\\model.ckpt.\n",
      "INFO:tensorflow:Calling checkpoint listeners after saving checkpoint 5000...\n",
      "INFO:tensorflow:Loss for final step: 0.299409.\n"
     ]
    },
    {
     "data": {
      "text/plain": [
       "<tensorflow_estimator.python.estimator.canned.dnn.DNNClassifierV2 at 0x1e9d63cf670>"
      ]
     },
     "execution_count": 23,
     "metadata": {},
     "output_type": "execute_result"
    }
   ],
   "source": [
    "classifier.train(\n",
    "    input_fn = lambda: input_fn(train, train_y, training = True),\n",
    "    steps = 5000\n",
    ")"
   ]
  },
  {
   "cell_type": "code",
   "execution_count": 31,
   "metadata": {},
   "outputs": [
    {
     "name": "stdout",
     "output_type": "stream",
     "text": [
      "INFO:tensorflow:Calling model_fn.\n",
      "INFO:tensorflow:Done calling model_fn.\n",
      "INFO:tensorflow:Starting evaluation at 2024-10-18T13:22:27\n",
      "INFO:tensorflow:Graph was finalized.\n",
      "INFO:tensorflow:Restoring parameters from C:\\WINDOWS\\TEMP\\tmpdi3xc1w0\\model.ckpt-5000\n",
      "INFO:tensorflow:Running local_init_op.\n",
      "INFO:tensorflow:Done running local_init_op.\n",
      "INFO:tensorflow:Inference Time : 0.26024s\n",
      "INFO:tensorflow:Finished evaluation at 2024-10-18-13:22:27\n",
      "INFO:tensorflow:Saving dict for global step 5000: accuracy = 0.95, average_loss = 0.3001278, global_step = 5000, loss = 0.3001278\n",
      "INFO:tensorflow:Saving 'checkpoint_path' summary for global step 5000: C:\\WINDOWS\\TEMP\\tmpdi3xc1w0\\model.ckpt-5000\n",
      "{'accuracy': 0.95, 'average_loss': 0.3001278, 'loss': 0.3001278, 'global_step': 5000}\n"
     ]
    }
   ],
   "source": [
    "eval_result = classifier.evaluate(input_fn= lambda: input_fn(test, test_y, training = False))\n",
    "print(eval_result)"
   ]
  },
  {
   "cell_type": "code",
   "execution_count": null,
   "metadata": {},
   "outputs": [],
   "source": []
  }
 ],
 "metadata": {
  "kernelspec": {
   "display_name": "Python 3",
   "language": "python",
   "name": "python3"
  },
  "language_info": {
   "codemirror_mode": {
    "name": "ipython",
    "version": 3
   },
   "file_extension": ".py",
   "mimetype": "text/x-python",
   "name": "python",
   "nbconvert_exporter": "python",
   "pygments_lexer": "ipython3",
   "version": "3.10.11"
  }
 },
 "nbformat": 4,
 "nbformat_minor": 2
}
